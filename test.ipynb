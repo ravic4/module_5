{
 "cells": [
  {
   "cell_type": "code",
   "execution_count": 4,
   "id": "e5ab10e7-08e5-40ec-b1bf-34c902cfaf43",
   "metadata": {
    "tags": []
   },
   "outputs": [],
   "source": [
    "from pathlib import Path"
   ]
  },
  {
   "cell_type": "code",
   "execution_count": 5,
   "id": "e864fe00-c1ed-41f0-863a-a78cc2b0ab01",
   "metadata": {
    "tags": []
   },
   "outputs": [
    {
     "name": "stdout",
     "output_type": "stream",
     "text": [
      "pokemon.csv\n"
     ]
    }
   ],
   "source": [
    "# csv = read.csv(\"pokemon.csv\",\"r\") \n",
    "csv = Path('pokemon.csv') #csv file is in the same lvl as jlab\n",
    "# print(csv)\n",
    "\n",
    "readcsv = read"
   ]
  },
  {
   "cell_type": "code",
   "execution_count": null,
   "id": "bdae0342-63b8-4f5c-8cad-c60a6c78c971",
   "metadata": {},
   "outputs": [],
   "source": []
  },
  {
   "cell_type": "code",
   "execution_count": null,
   "id": "8083e92e-2926-4872-999b-6dd6323b0050",
   "metadata": {},
   "outputs": [],
   "source": []
  },
  {
   "cell_type": "code",
   "execution_count": null,
   "id": "f02d9a51-6411-4bba-897a-f0c85c78b1c7",
   "metadata": {},
   "outputs": [],
   "source": []
  },
  {
   "cell_type": "code",
   "execution_count": null,
   "id": "7620be68-47e2-4546-8cf4-da2415390023",
   "metadata": {},
   "outputs": [],
   "source": []
  }
 ],
 "metadata": {
  "kernelspec": {
   "display_name": "Python 3 (ipykernel)",
   "language": "python",
   "name": "python3"
  },
  "language_info": {
   "codemirror_mode": {
    "name": "ipython",
    "version": 3
   },
   "file_extension": ".py",
   "mimetype": "text/x-python",
   "name": "python",
   "nbconvert_exporter": "python",
   "pygments_lexer": "ipython3",
   "version": "3.10.13"
  }
 },
 "nbformat": 4,
 "nbformat_minor": 5
}
