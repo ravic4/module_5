{
 "cells": [
  {
   "cell_type": "code",
   "execution_count": null,
   "id": "ade9f4e1-6f54-4bf9-90c9-2519f18edcc0",
   "metadata": {},
   "outputs": [],
   "source": [
    "#Checking if a year is a leap year\n",
    "#year = float(input(\"enter the year\"))\n"
   ]
  },
  {
   "cell_type": "code",
   "execution_count": 8,
   "id": "75c1b11d-4dea-4f1b-994c-50464e09d138",
   "metadata": {
    "tags": []
   },
   "outputs": [
    {
     "name": "stdout",
     "output_type": "stream",
     "text": [
      "0\n",
      "1\n",
      "2\n",
      "3\n",
      "4\n",
      "letter\n",
      "letter\n",
      "letter\n",
      "letter\n",
      "letter\n"
     ]
    }
   ],
   "source": [
    "for i in range(5):\n",
    "    print(i) \n",
    "for i in range(5):\n",
    "    print(\"letter\")\n",
    "\n",
    "    \n"
   ]
  },
  {
   "cell_type": "code",
   "execution_count": 47,
   "id": "ec15fc35-a0e9-422e-ac40-4378959ea138",
   "metadata": {
    "tags": []
   },
   "outputs": [],
   "source": [
    "desired_number = 25\n",
    " \n",
    "for number in range(25):\n",
    "    if(number == desired_number):\n",
    "        print(f\"This number: {number} was your desired number: {desired_number}\")\n",
    "\n",
    "##### \n",
    "    # if(desired_number < 0 or desired_number > 25):\n",
    "    #     print(\"your number is out of bounds\")\n",
    "\n"
   ]
  },
  {
   "cell_type": "code",
   "execution_count": 51,
   "id": "fff3fcbe-6490-4fb8-94c1-73ef59a57c01",
   "metadata": {
    "tags": []
   },
   "outputs": [
    {
     "name": "stdout",
     "output_type": "stream",
     "text": [
      "h\n",
      "e\n",
      "l\n",
      "l\n",
      "o\n",
      " \n",
      "w\n",
      "o\n",
      "r\n",
      "l\n",
      "d\n"
     ]
    }
   ],
   "source": [
    "# phase = \"hello world\" \n",
    "# for letters in phase: \n",
    "#     print(letters) "
   ]
  },
  {
   "cell_type": "code",
   "execution_count": 17,
   "id": "363b4c54-51d5-48ad-a87b-4277082d0e40",
   "metadata": {},
   "outputs": [
    {
     "name": "stdout",
     "output_type": "stream",
     "text": [
      "1\n",
      "2\n",
      "3\n",
      "4\n",
      "5\n",
      "6\n",
      "7\n",
      "8\n",
      "9\n",
      "10\n",
      "11\n",
      "12\n",
      "13\n",
      "14\n",
      "15\n",
      "16\n",
      "17\n",
      "18\n",
      "19\n",
      "20\n",
      "limit reached\n"
     ]
    }
   ],
   "source": [
    "counter = 1\n",
    "while counter <21: \n",
    "    print(counter)\n",
    "    counter = counter + 1 \n",
    "else:\n",
    "    print(\"limit reached\")"
   ]
  },
  {
   "cell_type": "code",
   "execution_count": 19,
   "id": "4edfa242-2844-4157-94c0-02572882460b",
   "metadata": {
    "tags": []
   },
   "outputs": [
    {
     "name": "stdout",
     "output_type": "stream",
     "text": [
      "hi\n"
     ]
    },
    {
     "name": "stdin",
     "output_type": "stream",
     "text": [
      "to run again, enter 'y' y\n"
     ]
    },
    {
     "name": "stdout",
     "output_type": "stream",
     "text": [
      "hi\n"
     ]
    },
    {
     "name": "stdin",
     "output_type": "stream",
     "text": [
      "to run again, enter 'y' \n"
     ]
    },
    {
     "name": "stdout",
     "output_type": "stream",
     "text": [
      "you exited\n"
     ]
    }
   ],
   "source": [
    "# run = \"y\"\n",
    "# while run == \"y\":\n",
    "#     print(\"hi\")\n",
    "#     run = input(\"to run again, enter 'y'\")\n",
    "# else: \n",
    "#     print(\"you exited\")"
   ]
  }
 ],
 "metadata": {
  "kernelspec": {
   "display_name": "Python 3 (ipykernel)",
   "language": "python",
   "name": "python3"
  },
  "language_info": {
   "codemirror_mode": {
    "name": "ipython",
    "version": 3
   },
   "file_extension": ".py",
   "mimetype": "text/x-python",
   "name": "python",
   "nbconvert_exporter": "python",
   "pygments_lexer": "ipython3",
   "version": "3.10.13"
  }
 },
 "nbformat": 4,
 "nbformat_minor": 5
}
