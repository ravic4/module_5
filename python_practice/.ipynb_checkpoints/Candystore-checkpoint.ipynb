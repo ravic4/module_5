{
 "cells": [
  {
   "cell_type": "code",
   "execution_count": 4,
   "id": "bf081176-c60c-4c99-8e64-7483407fe1ac",
   "metadata": {
    "tags": []
   },
   "outputs": [
    {
     "name": "stdout",
     "output_type": "stream",
     "text": [
      "[0]Snickers\n",
      "[1]KitKat\n",
      "[2]Sour Patch Kids\n",
      "[3]Juicy Fruit\n",
      "[4]Swedish Fish\n",
      "[5]Skittles\n",
      "[6]Hershey Bar\n",
      "[7]StarBursts\n",
      "[8]M&M\n",
      "Which candy would you like?\n"
     ]
    },
    {
     "name": "stdin",
     "output_type": "stream",
     "text": [
      "Enter the number of candy you'd like 2\n",
      "Enter the number of candy you'd like 2\n",
      "Enter the number of candy you'd like 555\n"
     ]
    },
    {
     "ename": "IndexError",
     "evalue": "list index out of range",
     "output_type": "error",
     "traceback": [
      "\u001b[0;31m---------------------------------------------------------------------------\u001b[0m",
      "\u001b[0;31mIndexError\u001b[0m                                Traceback (most recent call last)",
      "Cell \u001b[0;32mIn[4], line 14\u001b[0m\n\u001b[1;32m     12\u001b[0m     enter_input \u001b[38;5;241m=\u001b[39m \u001b[38;5;28minput\u001b[39m(\u001b[38;5;124m\"\u001b[39m\u001b[38;5;124mEnter the number of candy you\u001b[39m\u001b[38;5;124m'\u001b[39m\u001b[38;5;124md like\u001b[39m\u001b[38;5;124m\"\u001b[39m) \n\u001b[1;32m     13\u001b[0m \u001b[38;5;66;03m# Add the candy at the index chosen for the candylist \u001b[39;00m\n\u001b[0;32m---> 14\u001b[0m     candylist\u001b[38;5;241m.\u001b[39mappend(\u001b[43mcandylist\u001b[49m\u001b[43m[\u001b[49m\u001b[38;5;28;43mint\u001b[39;49m\u001b[43m(\u001b[49m\u001b[43menter_input\u001b[49m\u001b[43m)\u001b[49m\u001b[43m]\u001b[49m)\n",
      "\u001b[0;31mIndexError\u001b[0m: list index out of range"
     ]
    }
   ],
   "source": [
    "candylist = [\"Snickers\",\"KitKat\",\"Sour Patch Kids\", \"Juicy Fruit\", \"Swedish Fish\", \"Skittles\", \"Hershey Bar\", \"StarBursts\", \"M&M\"]\n",
    "allowance = 5\n",
    "\n",
    "candycart = []\n",
    "\n",
    "\n",
    "for i in range(len(candylist)): \n",
    "    print(\"[\" + str(i) + \"]\" + candylist[i])\n",
    "    \n",
    "print(\"Which candy would you like?\") \n",
    "for number in range(allowance):\n",
    "    enter_input = input(\"Enter the number of candy you'd like: \") \n",
    "# Add the candy at the index chosen for the candylist \n",
    "    candylist.append(candylist[int(enter_input)])\n",
    "\n"
   ]
  }
 ],
 "metadata": {
  "kernelspec": {
   "display_name": "Python 3 (ipykernel)",
   "language": "python",
   "name": "python3"
  },
  "language_info": {
   "codemirror_mode": {
    "name": "ipython",
    "version": 3
   },
   "file_extension": ".py",
   "mimetype": "text/x-python",
   "name": "python",
   "nbconvert_exporter": "python",
   "pygments_lexer": "ipython3",
   "version": "3.10.13"
  }
 },
 "nbformat": 4,
 "nbformat_minor": 5
}
