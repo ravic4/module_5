{
 "cells": [
  {
   "cell_type": "code",
   "execution_count": 4,
   "id": "fcea1d1b-97d7-49e3-898c-c5117a71889a",
   "metadata": {
    "tags": []
   },
   "outputs": [
    {
     "name": "stdout",
     "output_type": "stream",
     "text": [
      "\n",
      "What does that spell?!\n",
      "Edward!!\n",
      "Woohoo! Go Edward!!\n",
      "uWuuWuuWu\n",
      "ヘ( ^o^)ノ＼(^_^ )\n"
     ]
    }
   ],
   "source": [
    "# # Create a variable named cheer and give it a word to cheer (i.e. Python or FinTech)\n",
    "# cheer = \"Edward!\" \n",
    "\n",
    "# # Below strings can be used to add fun\n",
    "# cheer_symbol = \"uWu\"\n",
    "# cheer_symbol_2 = \"ヘ( ^o^)ノ＼(^_^ )\"\n",
    "\n",
    "# # Loop through string and print each letter with a cheer\n",
    "\n",
    "\n",
    "# # Print excitement to screen\n",
    "# print(\"\\nWhat does that spell?!\")\n",
    "# print(cheer + \"!\\nWoohoo! Go \" + cheer + \"!\")\n",
    "# print(cheer_symbol * 3)\n",
    "# print(cheer_symbol_2)\n"
   ]
  },
  {
   "cell_type": "code",
   "execution_count": 26,
   "id": "caf0152e-8ff3-4692-a8a9-47260657da58",
   "metadata": {
    "tags": []
   },
   "outputs": [
    {
     "name": "stdout",
     "output_type": "stream",
     "text": [
      "\n",
      "can I get a R GO! GO! GO! GO!\n",
      "\n",
      "can I get a a GO! GO! GO! GO!\n",
      "\n",
      "can I get a v GO! GO! GO! GO!\n",
      "\n",
      "can I get a i GO! GO! GO! GO!\n",
      "go Ravi LETS GO LETS GO LETS GO GO! GO! GO! GO!\n"
     ]
    }
   ],
   "source": [
    "#Create Cheer-leading program:\n",
    "#1. Initialize \"cheer\" variable to a string  to be cheered\n",
    "#2. Create a for loop and iterate through each character in cheer variable \n",
    "    #print each letter with a cheer\n",
    "#3. Print exclaimation marks\n",
    "\n",
    "\n",
    "#1. Initialize my variables:\n",
    "\n",
    "cheers = \"Ravi\" \n",
    "celebration_1 = \"LETS GO LETS GO LETS GO\" \n",
    "celebration_2 = \"GO! GO! GO! GO!\"\n",
    "for letter in cheers: \n",
    "    print()\n",
    "    print(f\"can I get a {letter} {celebration_2}\")\n",
    "print(f\"go {cheers} {celebration_1} {celebration_2}\")\n",
    "    # print(cheers + celebration_1)\n",
    "    # print()\n",
    "    # print(cheers + f\"\\n{celebration_2}\")\n",
    "    # print(celebration_2)\n",
    "    # print(\"!!!!!\")\n",
    "    # print(celebration_1 + celebration_2)"
   ]
  },
  {
   "cell_type": "code",
   "execution_count": 38,
   "id": "94f05116-46f2-4b8c-a3d5-9e5ef8e606f3",
   "metadata": {
    "tags": []
   },
   "outputs": [
    {
     "name": "stdin",
     "output_type": "stream",
     "text": [
      "enter the current interest rate in % 0.03\n",
      "what is the desired time period 10\n",
      "what is your principal? 20000\n"
     ]
    },
    {
     "name": "stdout",
     "output_type": "stream",
     "text": [
      "26000.0\n"
     ]
    }
   ],
   "source": [
    "#writing simple interest: \n",
    "#initialize \"principal\" \"interest rate\" and \"time period\" to a float. Get user input \n",
    "#Compute simple interest by : principle * interest rate * time period \n",
    "# print the value of simple interest \n",
    "\n",
    "# initializing my variables: \n",
    "interest_rate = float(input(\"enter the current interest rate in %\")) #type cast it as a float, 3 decimal places \n",
    "time_period = float(input(\"what is the desired time period\"))\n",
    "principal = float(input(\"what is your principal?\")) \n",
    "\n",
    "#print(type(interest_rate)) => Checked my interest_rate \n",
    "simple_interest_accrued = interest_rate * time_period * principal \n",
    "total_value = simple_interest_accrued + principal \n",
    "print(total_value)\n",
    "# print(f\"with an interest rate of: {interest_rate} and time period of: {time_period} and principal of: {principal} your simple interest value is {simple_interest}\")\n",
    "      \n"
   ]
  },
  {
   "cell_type": "code",
   "execution_count": 43,
   "id": "c613cb56-ddb5-4534-88a6-440ef805c120",
   "metadata": {
    "tags": []
   },
   "outputs": [
    {
     "ename": "SyntaxError",
     "evalue": "expected ':' (1771848456.py, line 35)",
     "output_type": "error",
     "traceback": [
      "\u001b[0;36m  Cell \u001b[0;32mIn[43], line 35\u001b[0;36m\u001b[0m\n\u001b[0;31m    elif percent_increase <= threshold_buy\u001b[0m\n\u001b[0m                                          ^\u001b[0m\n\u001b[0;31mSyntaxError\u001b[0m\u001b[0;31m:\u001b[0m expected ':'\n"
     ]
    }
   ],
   "source": [
    "\"\"\"\n",
    "Conditionally Yours\n",
    "\n",
    "Pseudocode:\n",
    "1. Initialize variables original_price, current_price, increase, percent_increase, recommendation, threshold_to_buy, and threshold_to_sell\n",
    "2. Compute increase\n",
    "3. Compute percent_increase\n",
    "4. IF percent_increase is greater than or equal to threshold_to_sell\n",
    "        THEN Set recommendation to \"sell\"\n",
    "    ELSE IF percent_increase is less than or equal to threshold_to_buy\n",
    "        THEN set recommendation to \"buy\"\n",
    "    ELSE IF percent_increase is less than threshold_to_sell and greater than threshold_to_buy\n",
    "        THEN set recommendation to \"hold\"\n",
    "    ELSE\n",
    "        THEN print(\"Not enough data to make a decision. Need human input\")\n",
    "5. Print(\"Recommendation: \" + recommendation)\n",
    "\"\"\"\n",
    "# Step 1: Initialized code, \n",
    "company_name = \"LRCX\" \n",
    "original_price = 650\n",
    "current_price = 779 \n",
    "threshold_buy = 50\n",
    "threshhold_sell = 800 \n",
    "buy = \"BUY\" \n",
    "hold = \"HOLD\"\n",
    "sell = \"SELL\"\n",
    "\n",
    "#Step 2: Adjusted my variables & created new from the given \n",
    "increase = current_price - original_price\n",
    "percent_increase = (increase / original_price) * 100\n",
    "\n",
    "#Step 3: My if statements\n",
    "if percent_increase >= threshold_sell:\n",
    "    print(f\"Recommendation {sell}\")\n",
    "# elif percent_increase <= threshold_buy"
   ]
  }
 ],
 "metadata": {
  "kernelspec": {
   "display_name": "Python 3 (ipykernel)",
   "language": "python",
   "name": "python3"
  },
  "language_info": {
   "codemirror_mode": {
    "name": "ipython",
    "version": 3
   },
   "file_extension": ".py",
   "mimetype": "text/x-python",
   "name": "python",
   "nbconvert_exporter": "python",
   "pygments_lexer": "ipython3",
   "version": "3.10.13"
  }
 },
 "nbformat": 4,
 "nbformat_minor": 5
}
