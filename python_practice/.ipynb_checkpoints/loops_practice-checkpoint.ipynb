{
 "cells": [
  {
   "cell_type": "code",
   "execution_count": null,
   "id": "ade9f4e1-6f54-4bf9-90c9-2519f18edcc0",
   "metadata": {},
   "outputs": [],
   "source": [
    "#Checking if a year is a leap year\n",
    "#year = float(input(\"enter the year\"))\n"
   ]
  },
  {
   "cell_type": "code",
   "execution_count": 8,
   "id": "75c1b11d-4dea-4f1b-994c-50464e09d138",
   "metadata": {
    "tags": []
   },
   "outputs": [
    {
     "name": "stdout",
     "output_type": "stream",
     "text": [
      "0\n",
      "1\n",
      "2\n",
      "3\n",
      "4\n",
      "letter\n",
      "letter\n",
      "letter\n",
      "letter\n",
      "letter\n"
     ]
    }
   ],
   "source": [
    "for i in range(5):\n",
    "    print(i) \n",
    "for i in range(5):\n",
    "    print(\"letter\")\n",
    "\n",
    "    \n"
   ]
  },
  {
   "cell_type": "code",
   "execution_count": 47,
   "id": "ec15fc35-a0e9-422e-ac40-4378959ea138",
   "metadata": {
    "tags": []
   },
   "outputs": [],
   "source": [
    "desired_number = 25\n",
    " \n",
    "for number in range(25):\n",
    "    if(number == desired_number):\n",
    "        print(f\"This number: {number} was your desired number: {desired_number}\")\n",
    "\n",
    "##### \n",
    "    # if(desired_number < 0 or desired_number > 25):\n",
    "    #     print(\"your number is out of bounds\")\n",
    "\n"
   ]
  },
  {
   "cell_type": "code",
   "execution_count": null,
   "id": "fff3fcbe-6490-4fb8-94c1-73ef59a57c01",
   "metadata": {},
   "outputs": [],
   "source": [
    "phase = \"hello world\" \n",
    "\n",
    "for letters in phase: \n",
    "    print(letters) "
   ]
  }
 ],
 "metadata": {
  "kernelspec": {
   "display_name": "Python 3 (ipykernel)",
   "language": "python",
   "name": "python3"
  },
  "language_info": {
   "codemirror_mode": {
    "name": "ipython",
    "version": 3
   },
   "file_extension": ".py",
   "mimetype": "text/x-python",
   "name": "python",
   "nbconvert_exporter": "python",
   "pygments_lexer": "ipython3",
   "version": "3.10.13"
  }
 },
 "nbformat": 4,
 "nbformat_minor": 5
}
