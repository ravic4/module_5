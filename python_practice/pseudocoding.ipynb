{
 "cells": [
  {
   "cell_type": "code",
   "execution_count": 36,
   "id": "241eb31c-563f-4261-9b55-e31652e6efe8",
   "metadata": {
    "tags": []
   },
   "outputs": [
    {
     "name": "stdout",
     "output_type": "stream",
     "text": [
      "1466.65\n",
      "-0.186\n",
      "0.2\n",
      "manual control necessary. steady -0.186 and your 0.2\n"
     ]
    }
   ],
   "source": [
    "\"\"\"\n",
    "Starting out Intention: \n",
    "- Calculate the percent increase in stock price for NFLX \n",
    "- assume a 20% increase in stock price warrants a BUY \n",
    "- assume a 20% decrease in stock price warrants a SELL \n",
    "- use conditions to let person know whether to BUY or SELL \n",
    "\n",
    "\"\"\"\n",
    "\n",
    "\"\"\" \n",
    "Pseudo coding:\n",
    "1) Identify my variables: Company_name, current_price, original_price, increase(decrease)\n",
    "   percent_increase\n",
    "\n",
    "\"\"\" \n",
    "# Variables are identified here: \n",
    "company_name = \"NFLX\"\n",
    "current_price = 293.33\n",
    "original_price = 360.35 \n",
    "threshold_buy = 0.20\n",
    "threshold_sell = -0.20\n",
    "buy = \"we recommend BUY\"\n",
    "sell = \"we recommend SELL\" \n",
    "increase_decrease = current_price-original_price \n",
    "percent_change = round((increase_decrease / original_price),3) \n",
    "\n",
    "balance = 10000\n",
    "\n",
    "\n",
    "checker = round((current_price*5),3)\n",
    "\n",
    "print(checker)\n",
    "print(percent_change)\n",
    "print(threshold_buy)\n",
    "\n",
    "\n",
    "\n",
    "# if balance >= checker: \n",
    "#     if percent_change >= threshold_buy:\n",
    "#         print(buy, f\"percent change {percent_change} and your {threshold_buy}\")\n",
    "#     else: \n",
    "#         print(f\"manual control necessary. steady {percent_change} and your {threshold_buy}\")\n",
    "# elif balance <= checker: \n",
    "#     if percent_change <= threshold_buy:\n",
    "#         print(sell, f\"percent change {percent_change} and your {threshold_buy}\")\n",
    "#     else:\n",
    "#         print(f\"manual control necessary. steady {percent_change} and your {threshold_buy}\")\n",
    "# else:\n",
    "#     print(f\"manual control necessary. steady {percent_change} and your {threshold_buy}\")\n",
    "    \n",
    "# if balance >= checker and percent_change >= threshold_buy: \n",
    "#     print(buy, f\"percent change {percent_change} and your {threshold_buy}\")\n",
    "# elif balance <= checker and percent_change <= threshold_buy:\n",
    "#     print(sell, f\"percent change {percent_change} and your {threshold_buy}\")\n",
    "# else:\n",
    "#     print(f\"manual control necessary. steady {percent_change} and your {threshold_buy}\")\n",
    "    "
   ]
  },
  {
   "cell_type": "code",
   "execution_count": null,
   "id": "6786c8c5-25a6-4ff4-b06b-6568f98e9e67",
   "metadata": {},
   "outputs": [],
   "source": []
  }
 ],
 "metadata": {
  "kernelspec": {
   "display_name": "Python 3 (ipykernel)",
   "language": "python",
   "name": "python3"
  },
  "language_info": {
   "codemirror_mode": {
    "name": "ipython",
    "version": 3
   },
   "file_extension": ".py",
   "mimetype": "text/x-python",
   "name": "python",
   "nbconvert_exporter": "python",
   "pygments_lexer": "ipython3",
   "version": "3.10.13"
  }
 },
 "nbformat": 4,
 "nbformat_minor": 5
}
