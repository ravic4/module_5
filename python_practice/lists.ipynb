{
 "cells": [
  {
   "cell_type": "code",
   "execution_count": 84,
   "id": "d8610baa-bdb6-4f24-9615-950bbcdbe08d",
   "metadata": {
    "tags": []
   },
   "outputs": [
    {
     "name": "stdout",
     "output_type": "stream",
     "text": [
      "Ferrari, Bentley, McLaren\n"
     ]
    }
   ],
   "source": [
    "\"\"\"\n",
    "  Pseudocode for a cheer-leading program:\n",
    "\n",
    "  1. Initialize \"cheer\" variable to a string to be cheered\n",
    "  2. Create a for loop and iterate through each character in \"cheer\" variable\n",
    "      2.1 Print each letter to screen with a cheer\n",
    "  3. Print exclamations to screen (\"Woohoo!!!\")\n",
    "\"\"\"\n",
    "\n",
    "# cheer_list = [\"Flour, Chocolate, Spaghetti\"] \n",
    "\n",
    "# for words in cheer_list: \n",
    "#     print(words)\n",
    "\n",
    "#Very interesting. for words in cheer prints me each one individually. If I print(words) i get: the list above. If I print\n",
    "# If I print cheer, I get the 'cheer' list in list format: \n",
    "\n",
    "# print(cheer_list)\n",
    "# print(len(cheer_list))\n",
    "\n",
    "# for ingredients in cheer_list: \n",
    "#     for letter in cheer[0]:\n",
    "#         print(\"give me a \" + letter +\"!\")\n",
    "#         print(letter + \"!\")\n",
    "    \n",
    "\n",
    "    \n",
    "# # print()\n",
    "# # print()\n",
    "# # print(\"Whoo Hoo!\")\n",
    "# # for ingredients in range(len(cheer_list)): \n",
    "# #     for letter in cheer[ingredients]:\n",
    "# #         print(\"give me a \" + letter +\"!\")\n",
    "# #         print(letter + \"!\")\n",
    "# # print(\"Wooo Hooo!\")\n",
    "\n",
    "# color_hats_list = [\"green, blue, red, purple\"] \n",
    "# for hats in color_hats_list:\n",
    "#     for first_letter in color_hats_list:\n",
    "#         print(letter)\n",
    "\n",
    "#  # print(hats) #that's why we have to create a nested loop to dig deeper. otherwise we get the whole list!         \n",
    "\n"
   ]
  },
  {
   "cell_type": "code",
   "execution_count": 82,
   "id": "ec28033a-5c02-476a-922a-c3132bf77157",
   "metadata": {
    "tags": []
   },
   "outputs": [
    {
     "name": "stdout",
     "output_type": "stream",
     "text": [
      "Ferrari, Bentley, McLaren\n"
     ]
    }
   ],
   "source": [
    "# car_collection = [\"Ferrari, Bentley, McLaren\"]\n",
    "# for cars in car_collection: \n",
    "#     for first_letter_car in car_collection:\n",
    "#         print(first_letter_car) "
   ]
  },
  {
   "cell_type": "code",
   "execution_count": 97,
   "id": "2e8d64ce-0889-461a-a133-d1029d8346dd",
   "metadata": {
    "tags": []
   },
   "outputs": [
    {
     "name": "stdout",
     "output_type": "stream",
     "text": [
      "Chocolate\n",
      "9\n",
      "['beach', 'mountains']\n",
      "10.5\n",
      "breakfast\n",
      "Chocolate\n",
      "9\n",
      "['beach', 'mountains']\n",
      "10.5\n",
      "breakfast\n",
      "Chocolate\n",
      "9\n",
      "['beach', 'mountains']\n",
      "10.5\n",
      "breakfast\n",
      "Chocolate\n",
      "9\n",
      "['beach', 'mountains']\n",
      "10.5\n",
      "breakfast\n",
      "Chocolate\n",
      "9\n",
      "['beach', 'mountains']\n",
      "10.5\n",
      "breakfast\n"
     ]
    }
   ],
   "source": [
    "# my_fav_things = [\"Chocolate\", 9, [\"beach\",\"mountains\"], 10.5, \"breakfast\"] \n",
    "# # print(my_fav_things)\n",
    "\n",
    "# for things in range(len(my_fav_things)):\n",
    "#     for stuff in my_fav_things:\n",
    "#         print(stuff)\n"
   ]
  },
  {
   "cell_type": "code",
   "execution_count": 121,
   "id": "287ee83c-a07a-4066-946f-4dc8239fc72a",
   "metadata": {
    "tags": []
   },
   "outputs": [
    {
     "name": "stdout",
     "output_type": "stream",
     "text": [
      "my fav pokemons\n",
      "adding an element to this list\n",
      "['Pikachu', 'Bulbasaur', 'Onyx', 'Ravi']\n",
      "removing an item - Bulbasaur\n",
      "['Pikachu', 'Onyx', 'Ravi']\n",
      "length list\n",
      "3\n",
      "3\n",
      "finding a specific item in a list, must call it out\n",
      "2\n"
     ]
    },
    {
     "ename": "TypeError",
     "evalue": "'builtin_function_or_method' object is not subscriptable",
     "output_type": "error",
     "traceback": [
      "\u001b[0;31m---------------------------------------------------------------------------\u001b[0m",
      "\u001b[0;31mTypeError\u001b[0m                                 Traceback (most recent call last)",
      "Cell \u001b[0;32mIn[121], line 48\u001b[0m\n\u001b[1;32m     45\u001b[0m where_is_ravi \u001b[38;5;241m=\u001b[39m pokemon_list\u001b[38;5;241m.\u001b[39mindex(\u001b[38;5;124m\"\u001b[39m\u001b[38;5;124mRavi\u001b[39m\u001b[38;5;124m\"\u001b[39m)\n\u001b[1;32m     46\u001b[0m \u001b[38;5;28mprint\u001b[39m(where_is_ravi)\n\u001b[0;32m---> 48\u001b[0m \u001b[38;5;28mprint\u001b[39m(\u001b[43mpokemon_list\u001b[49m\u001b[38;5;241;43m.\u001b[39;49m\u001b[43mindex\u001b[49m\u001b[43m[\u001b[49m\u001b[38;5;241;43m2\u001b[39;49m\u001b[43m]\u001b[49m)\n",
      "\u001b[0;31mTypeError\u001b[0m: 'builtin_function_or_method' object is not subscriptable"
     ]
    }
   ],
   "source": [
    "print(\"my fav pokemons\")\n",
    "\n",
    "pokemon_list = [\"Pikachu\", \"Bulbasaur\", \"Onyx\"]\n",
    "# print(pokemon_list[1:])\n",
    "\n",
    "\n",
    "\n",
    "# print(pokemon_list[0]) #prints the first item in the list\n",
    "\n",
    "# for pokemon in range(len(pokemon_list)):\n",
    "#     for letters in pokemon_list[pokemon]: #understanding this now. for me to print the data points vertically i do this way: \n",
    "#         print(letters) \n",
    "        \n",
    "# for pokemon in pokemon_list: \n",
    "#     print(pokemon) #like this, I print the data points row by row as appossed to split up \n",
    "    \n",
    "\n",
    "\n",
    "\"\"\" \n",
    "Adding another pokemon to this list\n",
    "Removing an item from the list \n",
    "Seeing number of elements\n",
    "Seeing where \"Ravi\" is in the list \n",
    "\"\"\"\n",
    "#1) Adding item \n",
    "print(\"adding an element to this list\")\n",
    "pokemon_list.append(\"Ravi\")\n",
    "print(pokemon_list)\n",
    "\n",
    "#2 Removing an item: \n",
    "print(\"removing an item - Bulbasaur\")\n",
    "pokemon_list.remove(\"Bulbasaur\")\n",
    "print(pokemon_list)\n",
    "\n",
    "#3) Seeing the number elements in the list \n",
    "print(\"length list\") \n",
    "length_list = len(pokemon_list)\n",
    "print(length_list)\n",
    "\n",
    "## Can say this instead: \n",
    "print(len(pokemon_list))\n",
    "\n",
    "#4 Seeing where \"ravi\" is in the list: \n",
    "print(\"finding a specific item in a list, must call it out\")\n",
    "where_is_ravi = pokemon_list.index(\"Ravi\")\n",
    "print(where_is_ravi)\n",
    "\n",
    "# print(pokemon_list.index[2]) Doesn't appear that this works \n",
    "\n"
   ]
  },
  {
   "cell_type": "code",
   "execution_count": 136,
   "id": "b1b49ea8-fbad-449a-9cdf-c8d0b58f4889",
   "metadata": {
    "tags": []
   },
   "outputs": [
    {
     "name": "stdout",
     "output_type": "stream",
     "text": [
      "['Water', 'Butter', 'Eggs', 'Apples', 'Cinnamon', 'Sugar', 'milk']\n",
      "['Water', 'Butter']\n",
      "7\n",
      "['Eggs', 'Apples', 'Cinnamon', 'Sugar', 'milk']\n",
      "['Butter', 'Apples', 'Sugar']\n"
     ]
    }
   ],
   "source": [
    "\"\"\"\n",
    "Create a grocery list for the following ingredients: \n",
    "    * Water\n",
    "    * Butter\n",
    "    * Eggs\n",
    "    * Apples\n",
    "    * Cinnamon\n",
    "    * Sugar\n",
    "    * Milk\n",
    "2. Find the first two items on Mike's grocery list.\n",
    "\n",
    "3. Find the last five items on Mike's grocery list.\n",
    "\n",
    "4. Find _every other_ item, starting from the second item, on Mike's grocery list.\n",
    "\n",
    "5. Add `flour` to the grocery list.\n",
    "\n",
    "6. Change `apples` to `gala apples`. (Mike decides to be more specific with the types of apples needed.)\n",
    "\n",
    "7. Determine the total number of items on the grocery list.\n",
    "\"\"\"\n",
    "\n",
    "#1) creating my variables. Identify: Mike is given a list, \n",
    "\n",
    "grocery_list = [\"Water\", \"Butter\", \"Eggs\", \"Apples\", \"Cinnamon\", \"Sugar\", \"milk\"]\n",
    "print(grocery_list)\n",
    "\n",
    "#2) find the first two items in mike's list \n",
    "\n",
    "first_two_items = grocery_list[0:2]\n",
    "print(first_two_items)\n",
    "\n",
    "#3) Find the last five items in the list \n",
    "## find the total length \n",
    "print(len(grocery_list))\n",
    "\n",
    "last_five_items = grocery_list[2:7]\n",
    "print(last_five_items)\n",
    "\n",
    "#4) Printing every other items \n",
    "print(grocery_list[1::2]) # Every other item: https://java2blog.com/get-every-other-element-list-python/  (Source)\n",
    "\n",
    "\n"
   ]
  }
 ],
 "metadata": {
  "kernelspec": {
   "display_name": "Python 3 (ipykernel)",
   "language": "python",
   "name": "python3"
  },
  "language_info": {
   "codemirror_mode": {
    "name": "ipython",
    "version": 3
   },
   "file_extension": ".py",
   "mimetype": "text/x-python",
   "name": "python",
   "nbconvert_exporter": "python",
   "pygments_lexer": "ipython3",
   "version": "3.10.13"
  }
 },
 "nbformat": 4,
 "nbformat_minor": 5
}
