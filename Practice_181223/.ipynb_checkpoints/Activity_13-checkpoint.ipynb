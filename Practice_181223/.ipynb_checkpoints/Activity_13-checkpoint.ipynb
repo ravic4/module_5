{
 "cells": [
  {
   "cell_type": "code",
   "execution_count": null,
   "id": "c8794d43-32ec-44fb-922d-863c05c655ee",
   "metadata": {},
   "outputs": [],
   "source": []
  }
 ],
 "metadata": {
  "kernelspec": {
   "display_name": "Python 3 (ipykernel)",
   "language": "python",
   "name": "python3"
  },
  "language_info": {
   "codemirror_mode": {
    "name": "ipython",
    "version": 3
   },
   "file_extension": ".py",
   "mimetype": "text/x-python",
   "name": "python",
   "nbconvert_exporter": "python",
   "pygments_lexer": "ipython3",
   "version": "3.10.13"
  }
 },
 "nbformat": 4,
 "nbformat_minor": 5
}
