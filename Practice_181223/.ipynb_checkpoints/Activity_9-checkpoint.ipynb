{
 "cells": [
  {
   "cell_type": "code",
   "execution_count": 5,
   "id": "54f329ff-9328-46ea-a669-d3b048c10d80",
   "metadata": {
    "tags": []
   },
   "outputs": [
    {
     "name": "stdout",
     "output_type": "stream",
     "text": [
      "{'west_coast': True, 'state': 'California'}\n"
     ]
    }
   ],
   "source": [
    "# san_francisco = {\n",
    "#     \"west_coast\": True,\n",
    "#     \"has_multiple_bridges\": True,\n",
    "#     \"known_for_pizza\": False,\n",
    "#     \"coastal\": True,\n",
    "#     \"snows\": False,\n",
    "#     \"very_hot\": False,\n",
    "#     \"mayor\": \"London Breed\",\n",
    "#     \"state\": \"California\",\n",
    "#     \"country\": \"USA\",\n",
    "#     \"best_food\": \"burritos\",\n",
    "#     \"sports_teams\": [\"Giants\", \"Warriors\", \"Forty-Niners\"],\n",
    "#     \"tallest_building\": \"SalesForce Building\",\n",
    "#     \"population\": 884363,\n",
    "#     \"city_size\": \"large\",\n",
    "#     \"median_house_price\": 1610000,\n",
    "#     \"famous_residents\": [\"Maya Angelou\", \"Robert Frost\", \"Carlos Santana\"],\n",
    "#     \"homeless_pop\": 1150,\n",
    "#     \"political_leaning\": \"Democrat\",\n",
    "#     \"notable_attractions\": [\"Alcatraz\", \"Golden Gate Bridge\", \"Fisherman's Wharf\"],\n",
    "#     \"natural_disasters\": [\"Earthquakes\"],\n",
    "# }\n",
    "\n",
    "# Re-create the content of the commented out `san_francisco` dictionary by using bracket notation to manually add each of the key-value pairs (including nested objects).\n",
    "san_francsico = {} \n",
    "\n",
    "san_francsico['west_coast'] = True \n",
    "san_francsico['state'] = \"California\" \n",
    "san_francsico['homeless_pop'] = 1150\n",
    "print(san_francsico) \n",
    "\n",
    "\n",
    "\n",
    "\n",
    "\n",
    "\n",
    "\n",
    "\n",
    "\n",
    "\n",
    "\n",
    "\n",
    "\n",
    "\n",
    "\n",
    "\n",
    "\n",
    "\n",
    "\n",
    "\n",
    "\n",
    "# Print the manually modified `san_francisco` dictionary and confirm the contents match the commented out version.\n"
   ]
  }
 ],
 "metadata": {
  "kernelspec": {
   "display_name": "Python 3 (ipykernel)",
   "language": "python",
   "name": "python3"
  },
  "language_info": {
   "codemirror_mode": {
    "name": "ipython",
    "version": 3
   },
   "file_extension": ".py",
   "mimetype": "text/x-python",
   "name": "python",
   "nbconvert_exporter": "python",
   "pygments_lexer": "ipython3",
   "version": "3.10.13"
  }
 },
 "nbformat": 4,
 "nbformat_minor": 5
}
