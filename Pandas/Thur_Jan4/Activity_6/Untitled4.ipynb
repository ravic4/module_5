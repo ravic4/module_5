{
 "cells": [
  {
   "cell_type": "code",
   "execution_count": 15,
   "id": "7db83592-2ea1-45de-a265-0fb4c61dd00a",
   "metadata": {},
   "outputs": [
    {
     "name": "stdout",
     "output_type": "stream",
     "text": [
      "2\n"
     ]
    }
   ],
   "source": [
    "def most_frequent(List):\n",
    "    dict = {}\n",
    "    count, itm = 0, ''\n",
    "    for item in reversed(List):\n",
    "        dict[item] = dict.get(item, 0) + 1\n",
    "        if dict[item] >= count :\n",
    "            count, itm = dict[item], item\n",
    "    return(itm)\n",
    "List = [2, 1, 2, 2, 1, ]\n",
    "print(most_frequent(List))"
   ]
  },
  {
   "cell_type": "code",
   "execution_count": null,
   "id": "20a2b0e7-76e9-49e6-b89e-d6c5b73a97f9",
   "metadata": {},
   "outputs": [],
   "source": []
  }
 ],
 "metadata": {
  "kernelspec": {
   "display_name": "Python 3 (ipykernel)",
   "language": "python",
   "name": "python3"
  },
  "language_info": {
   "codemirror_mode": {
    "name": "ipython",
    "version": 3
   },
   "file_extension": ".py",
   "mimetype": "text/x-python",
   "name": "python",
   "nbconvert_exporter": "python",
   "pygments_lexer": "ipython3",
   "version": "3.11.5"
  }
 },
 "nbformat": 4,
 "nbformat_minor": 5
}
