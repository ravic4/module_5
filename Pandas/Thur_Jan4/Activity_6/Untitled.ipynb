{
 "cells": [
  {
   "cell_type": "code",
   "execution_count": null,
   "id": "0ef7be0b-f9fe-4f29-97b4-2c9479c63e2b",
   "metadata": {},
   "outputs": [],
   "source": [
    "\"\"\"\n",
    "Decrypt message code problem \n",
    "\n",
    "issue: \n",
    "Codingiscool = message. \n",
    "CxowdwidnfgcisswCgohojlk = output. \n",
    "\n",
    " \n",
    "\n",
    "\"\"\""
   ]
  },
  {
   "cell_type": "code",
   "execution_count": 38,
   "id": "3f8f3a25-f3e4-4ae4-b44c-57ec39bec21f",
   "metadata": {},
   "outputs": [
    {
     "ename": "SyntaxError",
     "evalue": "invalid syntax (3631070402.py, line 31)",
     "output_type": "error",
     "traceback": [
      "\u001b[0;36m  Cell \u001b[0;32mIn[38], line 31\u001b[0;36m\u001b[0m\n\u001b[0;31m    if message[] == output[]:\u001b[0m\n\u001b[0m               ^\u001b[0m\n\u001b[0;31mSyntaxError\u001b[0m\u001b[0;31m:\u001b[0m invalid syntax\n"
     ]
    }
   ],
   "source": [
    "#Thought process: Pseudo code: \n",
    "\"\"\"\n",
    "Step 1: My variables: \n",
    "original: Codingiscool\n",
    "\n",
    "^^this doesnt \n",
    "output: CxowdwidnfgcisswCgohojlk \n",
    "\n",
    "final_conversion = C x o w d w i d n f g c i s sw C g o h o jl  k => Codingiscool \n",
    "\n",
    "\"\"\"\n",
    "\n",
    "#every other letter\n",
    "\n",
    "\"\"\" \n",
    "CxowdwidnfgcisswCgohojlk \n",
    "Codingiscool \n",
    "\n",
    "# My code will: Cycle through the message of: CxowdwidnfgcisswCgohojlk, then compare each letter to see if it matches with the \"message\". If it does match the \"message by letter: \n",
    "Store it into a list \n",
    "if not: \n",
    "Reject it outright and store it elsewhere. \n",
    "\n",
    "\"\"\"\n",
    "#Create my variables = Step 1, put everything into a list that way the values can be compared for a \" loop\". If output letter matches output message letter, it will store it. \n",
    "message = [\"C\",\"o\",\"d\",\"i\",\"n\",\"g\",\"i\",\"s\",\"c\",\"o\",\"o\",\"l\"] \n",
    "output = [\"C\",\"x\",\"o\",\"w\",\"d\",\"w\",\"i\",\"d\",\"n\",\"f\",\"g\",\"c\",\"i\",\"s\",\"s\",\"w\",\"C\",\"g\",\"o\",\"h\",\"o\",\"j\",\"l\",\"k\"] \n",
    "\n",
    "real_message = []\n",
    "\n",
    "#Creating my for loop. So it prints \n",
    "for message in output: \n",
    "    if message[] == output[]:\n",
    "        real_message.append(output)\n",
    "\n",
    "\n",
    "print(real_message)\n",
    "        \n",
    "\n"
   ]
  },
  {
   "cell_type": "code",
   "execution_count": null,
   "id": "ab547cfd-0556-4109-9506-4b478b3c1abb",
   "metadata": {},
   "outputs": [],
   "source": []
  },
  {
   "cell_type": "code",
   "execution_count": null,
   "id": "4f752ae5-fbe0-4f93-913d-1b0c03fc4e41",
   "metadata": {},
   "outputs": [],
   "source": []
  },
  {
   "cell_type": "code",
   "execution_count": null,
   "id": "1704cdfc-49f7-427a-8027-7ae825473993",
   "metadata": {},
   "outputs": [],
   "source": []
  },
  {
   "cell_type": "code",
   "execution_count": null,
   "id": "db7b3d87-b4d0-430f-a47b-6ee7e94c4623",
   "metadata": {},
   "outputs": [],
   "source": []
  }
 ],
 "metadata": {
  "kernelspec": {
   "display_name": "Python 3 (ipykernel)",
   "language": "python",
   "name": "python3"
  },
  "language_info": {
   "codemirror_mode": {
    "name": "ipython",
    "version": 3
   },
   "file_extension": ".py",
   "mimetype": "text/x-python",
   "name": "python",
   "nbconvert_exporter": "python",
   "pygments_lexer": "ipython3",
   "version": "3.11.5"
  }
 },
 "nbformat": 4,
 "nbformat_minor": 5
}
