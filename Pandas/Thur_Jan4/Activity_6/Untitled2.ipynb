{
 "cells": [
  {
   "cell_type": "code",
   "execution_count": 2,
   "id": "0915809c-45cf-4651-98e9-7557ab6e7202",
   "metadata": {},
   "outputs": [
    {
     "name": "stdout",
     "output_type": "stream",
     "text": [
      "The best profit is $8000.0.\n"
     ]
    }
   ],
   "source": [
    "def calculate_best_trade(prices):\n",
    "\n",
    "    # Check if there are less than two prices in the list\n",
    "    # If so, the function cannot calculate max profit\n",
    "    # Else, there are at least two prices in the list and so run the function\n",
    "    if len(prices) < 2:\n",
    "        print(\"List of prices does not have at least two elements! Cannot run the function.\")\n",
    "    else:\n",
    "\n",
    "        # Initialize desired number of shares\n",
    "        num_shares = 10000\n",
    "\n",
    "        # Initialize the low and high prices\n",
    "        min_price = 0\n",
    "        max_price = 0\n",
    "\n",
    "        # Iterate over each price in the prices list\n",
    "        for price in prices:\n",
    "\n",
    "            # Check to see if current prices is the first entry\n",
    "            # If so, set the min and max prices as the first entry\n",
    "            if min_price == 0 and max_price == 0:\n",
    "                min_price = price\n",
    "                max_price = price\n",
    "            # Check if price is less than the min price\n",
    "            # If so, set the min price to the current price\n",
    "            elif price < min_price:\n",
    "                min_price = price\n",
    "            # Check if price is greater than the max price\n",
    "            # If so, set the max price to the current price\n",
    "            elif price > max_price:\n",
    "                max_price = price\n",
    "\n",
    "        # Calculate the profit of the trade and round to two decimal places\n",
    "        profit = round((max_price - min_price) * num_shares, 2)\n",
    "\n",
    "        # Return both variables\n",
    "        return profit\n",
    "\n",
    "# List of stock prices for IAG between 10 AM and 11 AM (5 minute interval)\n",
    "prices = [1.42, 1.32, 1.45, 1.20, 1.34, 1.74, 1.10, 1.89, 1.42, 1.90, 1.80, 1.85]\n",
    "\n",
    "# Call the function\n",
    "best_profit = calculate_best_trade(prices)\n",
    "\n",
    "# Print the results of the function\n",
    "print(f\"The best profit is ${best_profit}.\")"
   ]
  }
 ],
 "metadata": {
  "kernelspec": {
   "display_name": "Python 3 (ipykernel)",
   "language": "python",
   "name": "python3"
  },
  "language_info": {
   "codemirror_mode": {
    "name": "ipython",
    "version": 3
   },
   "file_extension": ".py",
   "mimetype": "text/x-python",
   "name": "python",
   "nbconvert_exporter": "python",
   "pygments_lexer": "ipython3",
   "version": "3.11.5"
  }
 },
 "nbformat": 4,
 "nbformat_minor": 5
}
