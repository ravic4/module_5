{
 "cells": [
  {
   "cell_type": "code",
   "execution_count": 29,
   "id": "7053f002-6948-4f29-b0f0-437fc6b28144",
   "metadata": {},
   "outputs": [
    {
     "name": "stdout",
     "output_type": "stream",
     "text": [
      "0\n"
     ]
    }
   ],
   "source": [
    "\"\"\"\n",
    "FizzBuzz: \n",
    "Write a script that prints a script: 1-100 \n",
    "Multiples of 3: Print Fizz\n",
    "Multiples of 5: Print Buzz \n",
    "Multiples of 5 and 3: Print FizzBuzz\n",
    "\"\"\"\n",
    "\n",
    "\"\"\"\n",
    "Pseudo Code: \n",
    "- Create a loop that gets me a range of numbers between 1 to 100 (all inclusive)\n",
    "- Once the loop has been created I want to check if the number firstly can be divided by 3 without decimals. ( // <- that division) print(50//3) #its %\n",
    "- Cross check this with i % 3, i % 5, and i % 3 and i % 5 \n",
    "- \n",
    "\n",
    "lets say i Have number of 3,5,15, 16\n",
    "% = remainder division: \n",
    "\n",
    "3 % 3 = 0, since we can check for that, print Fizz \n",
    "5 % 3 = 2 (remainder), checking for if 5 % 5 = 0, print out Buzz \n",
    "15 % 3 = remainder = 0, and 15%5 = remainder = 0. Print out FizzBuzz \n",
    "16 % 3 = 1, and 16 % 5 = 1. We print out the \"else\" to accomodate for that. \n",
    "\n",
    "\n",
    "# \"\"\"\n",
    "\n",
    "\n",
    "for i in range(1,101):\n",
    "    if (i % 3 == 0) and (i % 5 == 0):\n",
    "        print(f\"{i} : FizzBuzz\") \n",
    "    elif (i % 3 == 0):\n",
    "        print(f\"{i} : Fizz\")\n",
    "    elif (i % 5 == 0): \n",
    "        print(f\"{i} : Buzz\")\n",
    "    else:\n",
    "        print(i)\n",
    "        \n",
    "\n"
   ]
  }
 ],
 "metadata": {
  "kernelspec": {
   "display_name": "Python 3 (ipykernel)",
   "language": "python",
   "name": "python3"
  },
  "language_info": {
   "codemirror_mode": {
    "name": "ipython",
    "version": 3
   },
   "file_extension": ".py",
   "mimetype": "text/x-python",
   "name": "python",
   "nbconvert_exporter": "python",
   "pygments_lexer": "ipython3",
   "version": "3.11.5"
  }
 },
 "nbformat": 4,
 "nbformat_minor": 5
}
