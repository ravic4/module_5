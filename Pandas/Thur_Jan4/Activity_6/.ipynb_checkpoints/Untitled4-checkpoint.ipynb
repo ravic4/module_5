{
 "cells": [
  {
   "cell_type": "code",
   "execution_count": 7,
   "id": "7db83592-2ea1-45de-a265-0fb4c61dd00a",
   "metadata": {},
   "outputs": [
    {
     "ename": "IndentationError",
     "evalue": "unexpected indent (1974251220.py, line 9)",
     "output_type": "error",
     "traceback": [
      "\u001b[0;36m  Cell \u001b[0;32mIn[7], line 9\u001b[0;36m\u001b[0m\n\u001b[0;31m    max_count = 0\u001b[0m\n\u001b[0m    ^\u001b[0m\n\u001b[0;31mIndentationError\u001b[0m\u001b[0;31m:\u001b[0m unexpected indent\n"
     ]
    }
   ],
   "source": [
    "\n",
    "numbers = [1, 2, 2, 3]\n",
    "\n",
    "\n",
    "# ### Solution: Dictionary\n",
    "\n",
    "# In[2]:\n",
    "\n",
    "\n",
    "def most_frequent(numbers):\n",
    "    max_count = 0\n",
    "    most_frequent_item = None\n",
    "    number_counts = {}\n",
    "    # Loop through each number and count the number of occurances\n",
    "    \n",
    "    for number in numbers:\n",
    "        if number_counts.get(number):\n",
    "            number_counts[number] += 1\n",
    "            \n",
    "        else:\n",
    "            number_counts[number] = 1\n",
    "        if number_counts[number] >= max_count:\n",
    "            \n",
    "            max_count = number_counts[number]\n",
    "            most_frequent_item = number\n",
    "    return most_frequent_item\n",
    "    \n",
    "most_frequent(numbers)"
   ]
  },
  {
   "cell_type": "code",
   "execution_count": null,
   "id": "20a2b0e7-76e9-49e6-b89e-d6c5b73a97f9",
   "metadata": {},
   "outputs": [],
   "source": []
  }
 ],
 "metadata": {
  "kernelspec": {
   "display_name": "Python 3 (ipykernel)",
   "language": "python",
   "name": "python3"
  },
  "language_info": {
   "codemirror_mode": {
    "name": "ipython",
    "version": 3
   },
   "file_extension": ".py",
   "mimetype": "text/x-python",
   "name": "python",
   "nbconvert_exporter": "python",
   "pygments_lexer": "ipython3",
   "version": "3.11.5"
  }
 },
 "nbformat": 4,
 "nbformat_minor": 5
}
