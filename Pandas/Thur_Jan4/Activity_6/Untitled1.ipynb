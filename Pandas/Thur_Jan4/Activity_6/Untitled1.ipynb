{
 "cells": [
  {
   "cell_type": "code",
   "execution_count": 10,
   "id": "0d8c0d3c-9e0c-49a2-b654-fbd932b98db8",
   "metadata": {},
   "outputs": [
    {
     "name": "stdout",
     "output_type": "stream",
     "text": [
      "8000.0\n"
     ]
    }
   ],
   "source": [
    "\"\"\"\n",
    "Xena is an amateur day trader who is trading IAG, a mineral exploration company. \n",
    "On December 12, 2015 at 10 a.m., Xena determined that IAG was a buying opportunity and bought \n",
    "10,000 shares at $1.42 per share; she ended up selling it an hour later (11 a.m.) at $1.85 per share, \n",
    "generating a profit of $4,300. Although a fantastic trade in and of itself, Xena wants to know if she could have possibly made more money.\n",
    "\n",
    "These were all the prices of IAG at 5-minute intervals on December 12, 2015, between the hours of 10 a.m. and 11 a.m.:\n",
    "\n",
    "`$1.42, $1.32, $1.45, $1.20, $1.34, $1.74, $1.10, $1.89, $1.42, $1.90, $1.80, $1.85`\n",
    "                        \n",
    "Write an efficient function that takes a list of stock prices in chronological order and finds the best \n",
    "trade by calculating the maximum profit through the determination of the minimum (buy) and maximum (sell) stock prices.\n",
    "\"\"\"\n",
    "\n",
    "\n",
    "\"\"\"\n",
    "We know she did a trade of: $1.42 buy and sell at 1.85 \n",
    "She wants to know if she could have made more money if she bought lower & sold higher. \n",
    "\n",
    "\"Pseudo Pseudo code\": \n",
    "We get the lowest number, and get the highest number in the list. And then we find the % difference of that, and multiply that by 10,000 (original investment) \n",
    "\n",
    "\"Pseudo code\" \n",
    "list_prices = $1.42, $1.32, $1.45, $1.20, $1.34, $1.74, $1.10, $1.89, $1.42, $1.90, $1.80, $1.85\n",
    "\n",
    "write a function that gets the smallest number in the length of the list: \n",
    "1) It loops through to find the smallest possible number starting with the \"0\" term, and puts that in a variable\n",
    "2) Repeats for largest possible number \n",
    "\n",
    "Then finds % difference of the two\n",
    "\n",
    "\n",
    "\"\"\"\n",
    "\n",
    "#Declare my variables: \n",
    "prices = [1.42,1.32,1.45,1.20,1.34,1.74,1.10,1.89,1.42,1.90,1.80,1.85]\n",
    "min = prices[0]\n",
    "max = 0\n",
    "shares = 10000\n",
    "\n",
    "#Setup for loop \n",
    "for price in prices:\n",
    "    #Finding my maximum: \n",
    "    if price > max:\n",
    "        max = price \n",
    "    #Print(max) gets me my largest price \n",
    "    elif price < min: \n",
    "        min = price     \n",
    "# print(min)\n",
    "\n",
    "buy_price = shares * min\n",
    "sell_price = shares * max \n",
    "diff = sell_price - buy_price\n",
    "\n",
    "print(diff)\n",
    "\n"
   ]
  },
  {
   "cell_type": "code",
   "execution_count": null,
   "id": "e8f1f82b-7e81-4838-baea-6396dfea8cf2",
   "metadata": {},
   "outputs": [],
   "source": []
  }
 ],
 "metadata": {
  "kernelspec": {
   "display_name": "Python 3 (ipykernel)",
   "language": "python",
   "name": "python3"
  },
  "language_info": {
   "codemirror_mode": {
    "name": "ipython",
    "version": 3
   },
   "file_extension": ".py",
   "mimetype": "text/x-python",
   "name": "python",
   "nbconvert_exporter": "python",
   "pygments_lexer": "ipython3",
   "version": "3.11.5"
  }
 },
 "nbformat": 4,
 "nbformat_minor": 5
}
