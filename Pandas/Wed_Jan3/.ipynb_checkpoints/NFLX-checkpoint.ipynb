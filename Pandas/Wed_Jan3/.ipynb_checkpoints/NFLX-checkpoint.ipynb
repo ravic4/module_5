{
 "cells": [
  {
   "cell_type": "code",
   "execution_count": 3,
   "id": "2c2046a6-0192-45f5-9c51-1cf3e34be6dc",
   "metadata": {},
   "outputs": [],
   "source": [
    "import pandas as pd \n",
    "from pathlib import Path \n",
    "import seaborn as sns \n",
    "%matplotlib inline"
   ]
  },
  {
   "cell_type": "code",
   "execution_count": 5,
   "id": "43c240d5-e848-4f1c-8bba-2c4ef3173eeb",
   "metadata": {},
   "outputs": [
    {
     "name": "stdout",
     "output_type": "stream",
     "text": [
      "NETFLIX.csv\n"
     ]
    }
   ],
   "source": [
    "#Reading data\n",
    "NFLX = Path(\"./NETFLIX.csv\")\n",
    "\n",
    "#Creating the Dataframe \n",
    "netflix = pd.read_csv(NFLX, index_col = \"date\", infer_datetime_format = True "
   ]
  },
  {
   "cell_type": "code",
   "execution_count": null,
   "id": "bce2c667-795f-486c-82e6-8c0dcc1a0717",
   "metadata": {},
   "outputs": [],
   "source": []
  },
  {
   "cell_type": "code",
   "execution_count": null,
   "id": "6c0683ce-fc0c-4cc8-93fa-1b7cde9b5728",
   "metadata": {},
   "outputs": [],
   "source": []
  }
 ],
 "metadata": {
  "kernelspec": {
   "display_name": "Python 3 (ipykernel)",
   "language": "python",
   "name": "python3"
  },
  "language_info": {
   "codemirror_mode": {
    "name": "ipython",
    "version": 3
   },
   "file_extension": ".py",
   "mimetype": "text/x-python",
   "name": "python",
   "nbconvert_exporter": "python",
   "pygments_lexer": "ipython3",
   "version": "3.11.5"
  }
 },
 "nbformat": 4,
 "nbformat_minor": 5
}
