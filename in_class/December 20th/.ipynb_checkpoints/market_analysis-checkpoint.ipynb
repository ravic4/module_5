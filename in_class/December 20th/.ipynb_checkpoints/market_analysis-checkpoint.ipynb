{
 "cells": [
  {
   "cell_type": "markdown",
   "metadata": {},
   "source": [
    "### Student Activity: Market Analysis\n",
    "\n",
    "This program reads daily stock data from a CSV and plots three different charts for three different analyses: pie (sector frequency distribution), bar (top 20 market cap companies), and scatter (price vs. earnings relationship)."
   ]
  },
  {
   "cell_type": "code",
   "execution_count": 1,
   "metadata": {
    "tags": []
   },
   "outputs": [],
   "source": [
    "# Import libraries and dependencies\n",
    "import pandas as pd \n",
    "from pathlib import Path \n"
   ]
  },
  {
   "cell_type": "markdown",
   "metadata": {},
   "source": [
    "### Read CSV in as DataFrame"
   ]
  },
  {
   "cell_type": "code",
   "execution_count": 2,
   "metadata": {
    "tags": []
   },
   "outputs": [
    {
     "data": {
      "text/html": [
       "<div>\n",
       "<style scoped>\n",
       "    .dataframe tbody tr th:only-of-type {\n",
       "        vertical-align: middle;\n",
       "    }\n",
       "\n",
       "    .dataframe tbody tr th {\n",
       "        vertical-align: top;\n",
       "    }\n",
       "\n",
       "    .dataframe thead th {\n",
       "        text-align: right;\n",
       "    }\n",
       "</style>\n",
       "<table border=\"1\" class=\"dataframe\">\n",
       "  <thead>\n",
       "    <tr style=\"text-align: right;\">\n",
       "      <th></th>\n",
       "      <th>Symbol</th>\n",
       "      <th>Name</th>\n",
       "      <th>Sector</th>\n",
       "      <th>Price</th>\n",
       "      <th>Price/Earnings</th>\n",
       "      <th>Dividend Yield</th>\n",
       "      <th>Earnings/Share</th>\n",
       "      <th>52 Week Low</th>\n",
       "      <th>52 Week High</th>\n",
       "      <th>Market Cap</th>\n",
       "      <th>EBITDA</th>\n",
       "      <th>Price/Sales</th>\n",
       "      <th>Price/Book</th>\n",
       "      <th>SEC Filings</th>\n",
       "    </tr>\n",
       "  </thead>\n",
       "  <tbody>\n",
       "    <tr>\n",
       "      <th>0</th>\n",
       "      <td>MMM</td>\n",
       "      <td>3M Company</td>\n",
       "      <td>Industrials</td>\n",
       "      <td>222.89</td>\n",
       "      <td>24.31</td>\n",
       "      <td>2.332862</td>\n",
       "      <td>7.92</td>\n",
       "      <td>259.770</td>\n",
       "      <td>175.490</td>\n",
       "      <td>138721055226</td>\n",
       "      <td>9.048000e+09</td>\n",
       "      <td>4.390271</td>\n",
       "      <td>11.34</td>\n",
       "      <td>http://www.sec.gov/cgi-bin/browse-edgar?action...</td>\n",
       "    </tr>\n",
       "    <tr>\n",
       "      <th>1</th>\n",
       "      <td>AOS</td>\n",
       "      <td>A.O. Smith Corp</td>\n",
       "      <td>Industrials</td>\n",
       "      <td>60.24</td>\n",
       "      <td>27.76</td>\n",
       "      <td>1.147959</td>\n",
       "      <td>1.70</td>\n",
       "      <td>68.390</td>\n",
       "      <td>48.925</td>\n",
       "      <td>10783419933</td>\n",
       "      <td>6.010000e+08</td>\n",
       "      <td>3.575483</td>\n",
       "      <td>6.35</td>\n",
       "      <td>http://www.sec.gov/cgi-bin/browse-edgar?action...</td>\n",
       "    </tr>\n",
       "    <tr>\n",
       "      <th>2</th>\n",
       "      <td>ABT</td>\n",
       "      <td>Abbott Laboratories</td>\n",
       "      <td>Health Care</td>\n",
       "      <td>56.27</td>\n",
       "      <td>22.51</td>\n",
       "      <td>1.908982</td>\n",
       "      <td>0.26</td>\n",
       "      <td>64.600</td>\n",
       "      <td>42.280</td>\n",
       "      <td>102121042306</td>\n",
       "      <td>5.744000e+09</td>\n",
       "      <td>3.740480</td>\n",
       "      <td>3.19</td>\n",
       "      <td>http://www.sec.gov/cgi-bin/browse-edgar?action...</td>\n",
       "    </tr>\n",
       "    <tr>\n",
       "      <th>3</th>\n",
       "      <td>ABBV</td>\n",
       "      <td>AbbVie Inc.</td>\n",
       "      <td>Health Care</td>\n",
       "      <td>108.48</td>\n",
       "      <td>19.41</td>\n",
       "      <td>2.499560</td>\n",
       "      <td>3.29</td>\n",
       "      <td>125.860</td>\n",
       "      <td>60.050</td>\n",
       "      <td>181386347059</td>\n",
       "      <td>1.031000e+10</td>\n",
       "      <td>6.291571</td>\n",
       "      <td>26.14</td>\n",
       "      <td>http://www.sec.gov/cgi-bin/browse-edgar?action...</td>\n",
       "    </tr>\n",
       "    <tr>\n",
       "      <th>4</th>\n",
       "      <td>ACN</td>\n",
       "      <td>Accenture plc</td>\n",
       "      <td>Information Technology</td>\n",
       "      <td>150.51</td>\n",
       "      <td>25.47</td>\n",
       "      <td>1.714470</td>\n",
       "      <td>5.44</td>\n",
       "      <td>162.600</td>\n",
       "      <td>114.820</td>\n",
       "      <td>98765855553</td>\n",
       "      <td>5.643228e+09</td>\n",
       "      <td>2.604117</td>\n",
       "      <td>10.62</td>\n",
       "      <td>http://www.sec.gov/cgi-bin/browse-edgar?action...</td>\n",
       "    </tr>\n",
       "    <tr>\n",
       "      <th>5</th>\n",
       "      <td>ATVI</td>\n",
       "      <td>Activision Blizzard</td>\n",
       "      <td>Information Technology</td>\n",
       "      <td>65.83</td>\n",
       "      <td>31.80</td>\n",
       "      <td>0.431903</td>\n",
       "      <td>1.28</td>\n",
       "      <td>74.945</td>\n",
       "      <td>38.930</td>\n",
       "      <td>52518668144</td>\n",
       "      <td>2.704000e+09</td>\n",
       "      <td>10.595120</td>\n",
       "      <td>5.16</td>\n",
       "      <td>http://www.sec.gov/cgi-bin/browse-edgar?action...</td>\n",
       "    </tr>\n",
       "    <tr>\n",
       "      <th>6</th>\n",
       "      <td>AYI</td>\n",
       "      <td>Acuity Brands Inc</td>\n",
       "      <td>Industrials</td>\n",
       "      <td>145.41</td>\n",
       "      <td>18.22</td>\n",
       "      <td>0.351185</td>\n",
       "      <td>7.43</td>\n",
       "      <td>225.360</td>\n",
       "      <td>142.000</td>\n",
       "      <td>6242377704</td>\n",
       "      <td>5.878000e+08</td>\n",
       "      <td>1.795347</td>\n",
       "      <td>3.55</td>\n",
       "      <td>http://www.sec.gov/cgi-bin/browse-edgar?action...</td>\n",
       "    </tr>\n",
       "    <tr>\n",
       "      <th>7</th>\n",
       "      <td>ADBE</td>\n",
       "      <td>Adobe Systems Inc</td>\n",
       "      <td>Information Technology</td>\n",
       "      <td>185.16</td>\n",
       "      <td>52.31</td>\n",
       "      <td>0.000000</td>\n",
       "      <td>3.39</td>\n",
       "      <td>204.450</td>\n",
       "      <td>114.451</td>\n",
       "      <td>94550214268</td>\n",
       "      <td>2.538040e+09</td>\n",
       "      <td>13.092818</td>\n",
       "      <td>11.06</td>\n",
       "      <td>http://www.sec.gov/cgi-bin/browse-edgar?action...</td>\n",
       "    </tr>\n",
       "    <tr>\n",
       "      <th>8</th>\n",
       "      <td>AAP</td>\n",
       "      <td>Advance Auto Parts</td>\n",
       "      <td>Consumer Discretionary</td>\n",
       "      <td>109.63</td>\n",
       "      <td>19.54</td>\n",
       "      <td>0.218321</td>\n",
       "      <td>6.19</td>\n",
       "      <td>169.550</td>\n",
       "      <td>78.810</td>\n",
       "      <td>8123611867</td>\n",
       "      <td>8.539410e+08</td>\n",
       "      <td>1.130106</td>\n",
       "      <td>2.51</td>\n",
       "      <td>http://www.sec.gov/cgi-bin/browse-edgar?action...</td>\n",
       "    </tr>\n",
       "    <tr>\n",
       "      <th>9</th>\n",
       "      <td>AMD</td>\n",
       "      <td>Advanced Micro Devices Inc</td>\n",
       "      <td>Information Technology</td>\n",
       "      <td>11.22</td>\n",
       "      <td>187.00</td>\n",
       "      <td>0.000000</td>\n",
       "      <td>0.03</td>\n",
       "      <td>15.650</td>\n",
       "      <td>9.700</td>\n",
       "      <td>11191663795</td>\n",
       "      <td>3.390000e+08</td>\n",
       "      <td>2.109195</td>\n",
       "      <td>21.47</td>\n",
       "      <td>http://www.sec.gov/cgi-bin/browse-edgar?action...</td>\n",
       "    </tr>\n",
       "  </tbody>\n",
       "</table>\n",
       "</div>"
      ],
      "text/plain": [
       "  Symbol                        Name                  Sector   Price  \\\n",
       "0    MMM                  3M Company             Industrials  222.89   \n",
       "1    AOS             A.O. Smith Corp             Industrials   60.24   \n",
       "2    ABT         Abbott Laboratories             Health Care   56.27   \n",
       "3   ABBV                 AbbVie Inc.             Health Care  108.48   \n",
       "4    ACN               Accenture plc  Information Technology  150.51   \n",
       "5   ATVI         Activision Blizzard  Information Technology   65.83   \n",
       "6    AYI           Acuity Brands Inc             Industrials  145.41   \n",
       "7   ADBE           Adobe Systems Inc  Information Technology  185.16   \n",
       "8    AAP          Advance Auto Parts  Consumer Discretionary  109.63   \n",
       "9    AMD  Advanced Micro Devices Inc  Information Technology   11.22   \n",
       "\n",
       "   Price/Earnings  Dividend Yield  Earnings/Share  52 Week Low  52 Week High  \\\n",
       "0           24.31        2.332862            7.92      259.770       175.490   \n",
       "1           27.76        1.147959            1.70       68.390        48.925   \n",
       "2           22.51        1.908982            0.26       64.600        42.280   \n",
       "3           19.41        2.499560            3.29      125.860        60.050   \n",
       "4           25.47        1.714470            5.44      162.600       114.820   \n",
       "5           31.80        0.431903            1.28       74.945        38.930   \n",
       "6           18.22        0.351185            7.43      225.360       142.000   \n",
       "7           52.31        0.000000            3.39      204.450       114.451   \n",
       "8           19.54        0.218321            6.19      169.550        78.810   \n",
       "9          187.00        0.000000            0.03       15.650         9.700   \n",
       "\n",
       "     Market Cap        EBITDA  Price/Sales  Price/Book  \\\n",
       "0  138721055226  9.048000e+09     4.390271       11.34   \n",
       "1   10783419933  6.010000e+08     3.575483        6.35   \n",
       "2  102121042306  5.744000e+09     3.740480        3.19   \n",
       "3  181386347059  1.031000e+10     6.291571       26.14   \n",
       "4   98765855553  5.643228e+09     2.604117       10.62   \n",
       "5   52518668144  2.704000e+09    10.595120        5.16   \n",
       "6    6242377704  5.878000e+08     1.795347        3.55   \n",
       "7   94550214268  2.538040e+09    13.092818       11.06   \n",
       "8    8123611867  8.539410e+08     1.130106        2.51   \n",
       "9   11191663795  3.390000e+08     2.109195       21.47   \n",
       "\n",
       "                                         SEC Filings  \n",
       "0  http://www.sec.gov/cgi-bin/browse-edgar?action...  \n",
       "1  http://www.sec.gov/cgi-bin/browse-edgar?action...  \n",
       "2  http://www.sec.gov/cgi-bin/browse-edgar?action...  \n",
       "3  http://www.sec.gov/cgi-bin/browse-edgar?action...  \n",
       "4  http://www.sec.gov/cgi-bin/browse-edgar?action...  \n",
       "5  http://www.sec.gov/cgi-bin/browse-edgar?action...  \n",
       "6  http://www.sec.gov/cgi-bin/browse-edgar?action...  \n",
       "7  http://www.sec.gov/cgi-bin/browse-edgar?action...  \n",
       "8  http://www.sec.gov/cgi-bin/browse-edgar?action...  \n",
       "9  http://www.sec.gov/cgi-bin/browse-edgar?action...  "
      ]
     },
     "execution_count": 2,
     "metadata": {},
     "output_type": "execute_result"
    }
   ],
   "source": [
    "# Set the path\n",
    "spx_csv = Path(\"./sp500_companies.csv/\")\n",
    "\n",
    "# Read in the CSV as a DataFrame\n",
    "spx_csv = pd.read_csv(spx_csv)\n",
    "# print(spx_csv)\n",
    "spx_csv.iloc[0:10]"
   ]
  },
  {
   "cell_type": "markdown",
   "metadata": {},
   "source": [
    "### Calculate Sector Counts"
   ]
  },
  {
   "cell_type": "code",
   "execution_count": 3,
   "metadata": {
    "tags": []
   },
   "outputs": [
    {
     "data": {
      "text/plain": [
       "Sector\n",
       "Consumer Discretionary        84\n",
       "Information Technology        70\n",
       "Financials                    68\n",
       "Industrials                   67\n",
       "Health Care                   61\n",
       "Consumer Staples              34\n",
       "Real Estate                   33\n",
       "Energy                        32\n",
       "Utilities                     28\n",
       "Materials                     25\n",
       "Telecommunication Services     3\n",
       "Name: count, dtype: int64"
      ]
     },
     "execution_count": 3,
     "metadata": {},
     "output_type": "execute_result"
    }
   ],
   "source": [
    "# Count the frequency of each sector from the list of companies <- reading as a list vs. dict. #Assign it to a variable, it is = data frame , calling the \n",
    "#column \"sector\" <- value \n",
    "read_csv = spx_csv['Sector'].value_counts()\n",
    "read_csv "
   ]
  },
  {
   "cell_type": "markdown",
   "metadata": {},
   "source": [
    "### Plot Sector Counts"
   ]
  },
  {
   "cell_type": "code",
   "execution_count": 8,
   "metadata": {},
   "outputs": [
    {
     "data": {
      "text/plain": [
       "<Axes: ylabel='count'>"
      ]
     },
     "execution_count": 8,
     "metadata": {},
     "output_type": "execute_result"
    },
    {
     "data": {
      "image/png": "[encoded data removed]",
      "text/plain": [
       "<Figure size 640x480 with 1 Axes>"
      ]
     },
     "metadata": {},
     "output_type": "display_data"
    }
   ],
   "source": [
    "# Plot a pie chart from the distribution of company sectors\n",
    "read_csv.plot(kind='pie')\n"
   ]
  },
  {
   "cell_type": "markdown",
   "metadata": {},
   "source": [
    "### Filter By Top 20 Market Cap Companies"
   ]
  },
  {
   "cell_type": "code",
   "execution_count": 14,
   "metadata": {},
   "outputs": [
    {
     "ename": "TypeError",
     "evalue": "DataFrame.set_index() got an unexpected keyword argument 'replace'",
     "output_type": "error",
     "traceback": [
      "\u001b[0;31m---------------------------------------------------------------------------\u001b[0m",
      "\u001b[0;31mTypeError\u001b[0m                                 Traceback (most recent call last)",
      "Cell \u001b[0;32mIn[14], line 6\u001b[0m\n\u001b[1;32m      2\u001b[0m mkt_cap \u001b[38;5;241m=\u001b[39m spx_csv\u001b[38;5;241m.\u001b[39mloc[:,[\u001b[38;5;124m'\u001b[39m\u001b[38;5;124mSymbol\u001b[39m\u001b[38;5;124m'\u001b[39m,\u001b[38;5;124m'\u001b[39m\u001b[38;5;124mMarket Cap\u001b[39m\u001b[38;5;124m'\u001b[39m]]\n\u001b[1;32m      4\u001b[0m \u001b[38;5;66;03m#filter function for top 20 .mlargest(20)\u001b[39;00m\n\u001b[0;32m----> 6\u001b[0m \u001b[43mmkt_cap\u001b[49m\u001b[38;5;241;43m.\u001b[39;49m\u001b[43mset_index\u001b[49m\u001b[43m(\u001b[49m\u001b[43mmkt_cap\u001b[49m\u001b[43m[\u001b[49m\u001b[38;5;124;43m'\u001b[39;49m\u001b[38;5;124;43mSymbol\u001b[39;49m\u001b[38;5;124;43m'\u001b[39;49m\u001b[43m]\u001b[49m\u001b[43m,\u001b[49m\u001b[43m \u001b[49m\u001b[43mreplace\u001b[49m\u001b[43m \u001b[49m\u001b[38;5;241;43m=\u001b[39;49m\u001b[43m \u001b[49m\u001b[38;5;28;43;01mTrue\u001b[39;49;00m\u001b[43m)\u001b[49m\n",
      "\u001b[0;31mTypeError\u001b[0m: DataFrame.set_index() got an unexpected keyword argument 'replace'"
     ]
    }
   ],
   "source": [
    "# Grab the `Symbol` and `Market Cap` columns\n",
    "mkt_cap = spx_csv.loc[:,['Symbol','Market Cap']]\n",
    "\n",
    "#filter function for top 20 .mlargest(20)\n",
    "\n",
    "mkt_cap.set_index(mkt_cap['Symbol'], inplace = True) \n",
    "\n",
    "# Set the 'Symbol' as the index\n",
    "\n",
    "\n",
    "# Drop the extra 'Symbol' column\n",
    "\n",
    "\n",
    "# Filter down to 20 companies with the largest market caps\n",
    "\n",
    "\n",
    "# Display the DataFrame\n"
   ]
  },
  {
   "cell_type": "markdown",
   "metadata": {},
   "source": [
    "### Plot Top 20 Market Cap Companies"
   ]
  },
  {
   "cell_type": "code",
   "execution_count": 6,
   "metadata": {},
   "outputs": [],
   "source": [
    "# Plot a bar chart of the top 20 market cap companies\n"
   ]
  },
  {
   "cell_type": "markdown",
   "metadata": {},
   "source": [
    "### Plot Relationship Between Price and Earnings/Share"
   ]
  },
  {
   "cell_type": "code",
   "execution_count": 7,
   "metadata": {},
   "outputs": [],
   "source": [
    "# Plot a scatter plot to display the relationship between price vs. earnings/share\n"
   ]
  },
  {
   "cell_type": "code",
   "execution_count": null,
   "metadata": {},
   "outputs": [],
   "source": []
  }
 ],
 "metadata": {
  "kernelspec": {
   "display_name": "Python 3 (ipykernel)",
   "language": "python",
   "name": "python3"
  },
  "language_info": {
   "codemirror_mode": {
    "name": "ipython",
    "version": 3
   },
   "file_extension": ".py",
   "mimetype": "text/x-python",
   "name": "python",
   "nbconvert_exporter": "python",
   "pygments_lexer": "ipython3",
   "version": "3.10.13"
  }
 },
 "nbformat": 4,
 "nbformat_minor": 4
}
