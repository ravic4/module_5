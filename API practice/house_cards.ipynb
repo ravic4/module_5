{
 "cells": [
  {
   "cell_type": "code",
   "execution_count": 14,
   "id": "8d028512-941a-4d43-9791-79cc087ced8f",
   "metadata": {},
   "outputs": [],
   "source": [
    "import requests \n",
    "import json"
   ]
  },
  {
   "cell_type": "code",
   "execution_count": 15,
   "id": "b3b81c50-55c8-4df1-a6bb-cc2907dc41f2",
   "metadata": {},
   "outputs": [
    {
     "data": {
      "text/plain": [
       "{'success': True,\n",
       " 'deck_id': '6pfy9z3nahhj',\n",
       " 'remaining': 312,\n",
       " 'shuffled': True}"
      ]
     },
     "execution_count": 15,
     "metadata": {},
     "output_type": "execute_result"
    }
   ],
   "source": [
    "response = requests.get(\"https://deckofcardsapi.com/api/deck/new/shuffle/?deck_count=6\")\n",
    "response.json()"
   ]
  },
  {
   "cell_type": "code",
   "execution_count": 16,
   "id": "105ea947-dc72-4fb1-b711-2e8a7336d915",
   "metadata": {},
   "outputs": [
    {
     "data": {
      "text/plain": [
       "'https://deckofcardsapi.com/api/deck/{deck_id}/draw/?count=2'"
      ]
     },
     "execution_count": 16,
     "metadata": {},
     "output_type": "execute_result"
    }
   ],
   "source": [
    "\"https://deckofcardsapi.com/api/deck/{deck_id}/draw/?count=2\""
   ]
  },
  {
   "cell_type": "code",
   "execution_count": 25,
   "id": "44cff315-1510-4f68-8c4a-004e77173b0b",
   "metadata": {},
   "outputs": [
    {
     "data": {
      "text/plain": [
       "{'success': True, 'deck_id': 'jakrujfcx088', 'remaining': 52, 'shuffled': True}"
      ]
     },
     "execution_count": 25,
     "metadata": {},
     "output_type": "execute_result"
    }
   ],
   "source": [
    "deck_url = \"https://deckofcardsapi.com/api/deck/new/shuffle/?deck_count=1\" \n",
    "\n",
    "response = requests.get(deck_url)\n",
    "data = response.json()\n",
    "    \n"
   ]
  },
  {
   "cell_type": "code",
   "execution_count": 27,
   "id": "7e660157-7866-4a9f-8077-82b5697b0717",
   "metadata": {},
   "outputs": [],
   "source": [
    "deck_id = data['deck_id']"
   ]
  },
  {
   "cell_type": "code",
   "execution_count": 28,
   "id": "f3a9d1cd-0ccc-4a88-8ffd-84a13dde4cb9",
   "metadata": {},
   "outputs": [
    {
     "name": "stdout",
     "output_type": "stream",
     "text": [
      "jakrujfcx088\n"
     ]
    }
   ],
   "source": [
    "print(deck_id)"
   ]
  },
  {
   "cell_type": "code",
   "execution_count": 32,
   "id": "de003880-a0e1-4ce4-b88b-eeb655041e30",
   "metadata": {},
   "outputs": [
    {
     "name": "stdout",
     "output_type": "stream",
     "text": [
      "https://deckofcardsapi.com/api/deck/new/jakrujfcx088/draw/?count=2\n",
      "https://deckofcardsapi.com/api/deckjakrujfcx088/shuffle/\n"
     ]
    }
   ],
   "source": [
    "draw_cards = f\"https://deckofcardsapi.com/api/deck/new/{deck_id}/draw/?count=2\"\n",
    "shuffle_deck_url = f\"https://deckofcardsapi.com/api/deck{deck_id}/shuffle/\"\n",
    "print(draw_cards)\n",
    "print(shuffle_deck_url)"
   ]
  },
  {
   "cell_type": "code",
   "execution_count": 34,
   "id": "07ecf5f5-c38e-41e9-ac9a-fc70d8e7f0b1",
   "metadata": {},
   "outputs": [
    {
     "ename": "AttributeError",
     "evalue": "'Response' object has no attribute 'get'",
     "output_type": "error",
     "traceback": [
      "\u001b[0;31m---------------------------------------------------------------------------\u001b[0m",
      "\u001b[0;31mAttributeError\u001b[0m                            Traceback (most recent call last)",
      "Cell \u001b[0;32mIn[34], line 1\u001b[0m\n\u001b[0;32m----> 1\u001b[0m response\u001b[38;5;241m.\u001b[39mget(shuffle_deck_url)\n",
      "\u001b[0;31mAttributeError\u001b[0m: 'Response' object has no attribute 'get'"
     ]
    }
   ],
   "source": [
    "response.get(shuffle_deck_url)"
   ]
  }
 ],
 "metadata": {
  "kernelspec": {
   "display_name": "Python 3 (ipykernel)",
   "language": "python",
   "name": "python3"
  },
  "language_info": {
   "codemirror_mode": {
    "name": "ipython",
    "version": 3
   },
   "file_extension": ".py",
   "mimetype": "text/x-python",
   "name": "python",
   "nbconvert_exporter": "python",
   "pygments_lexer": "ipython3",
   "version": "3.11.5"
  }
 },
 "nbformat": 4,
 "nbformat_minor": 5
}
